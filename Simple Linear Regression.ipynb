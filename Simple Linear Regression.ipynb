{
 "cells": [
  {
   "cell_type": "markdown",
   "id": "f504a974",
   "metadata": {},
   "source": [
    "# ML LAB "
   ]
  },
  {
   "cell_type": "markdown",
   "id": "19d20f54",
   "metadata": {},
   "source": [
    "# Program 1\n",
    "\n",
    "## Task\n",
    " A program for linear regression model using ML\n",
    " "
   ]
  },
  {
   "cell_type": "markdown",
   "id": "5c50bc61",
   "metadata": {},
   "source": [
    "Quantity to price conversion\n"
   ]
  },
  {
   "cell_type": "code",
   "execution_count": 1,
   "id": "9a55ca4b",
   "metadata": {},
   "outputs": [],
   "source": [
    "# Imports\n",
    "import numpy as np\n",
    "import matplotlib.pyplot as plt\n",
    "from scipy import stats\n",
    "\n",
    "# Dataset Creation\n",
    "quantity = np.array([0, 10, 20, 30, 40, 50, 60, 70, 80, 90, 100])\n",
    "price = np.array([0, 1, 2, 3, 4, 5, 6, 7, 8, 9, 10])\n",
    "\n",
    "# Performing Linear Regression\n",
    "slope, intercept, r_value, p_value, std_err = stats.linregress(quantity, price)\n",
    "\n",
    "def predict(c):\n",
    "    return slope * c + intercept"
   ]
  },
  {
   "cell_type": "code",
   "execution_count": 2,
   "id": "17d4a567",
   "metadata": {},
   "outputs": [
    {
     "name": "stdout",
     "output_type": "stream",
     "text": [
      "Enter quantity in kgs:\n",
      ">>>30\n",
      "3.0\n",
      ">>>exit\n",
      "finished\n"
     ]
    }
   ],
   "source": [
    "print(\"Enter quantity in kgs:\")\n",
    "while True:\n",
    "  inp = input(\">>>\")\n",
    "  if inp == \"exit\":\n",
    "    print(\"finished\")\n",
    "    break\n",
    "  print(predict(float(inp)))"
   ]
  },
  {
   "cell_type": "markdown",
   "id": "d3b04988",
   "metadata": {},
   "source": [
    "# Program 2\n",
    "\n",
    "## Task\n",
    "A program for linear regression model using scikit-learn but no machine learning\n"
   ]
  },
  {
   "cell_type": "markdown",
   "id": "01261d96",
   "metadata": {},
   "source": [
    "## ML model Task\n",
    "Quantity to price conversion"
   ]
  },
  {
   "cell_type": "code",
   "execution_count": 3,
   "id": "0fe31583",
   "metadata": {},
   "outputs": [],
   "source": [
    "# Imports\n",
    "import numpy as np\n",
    "import matplotlib.pyplot as plt\n",
    "from sklearn.linear_model import LinearRegression\n",
    "\n",
    "# Dataset Creation\n",
    "quantity = np.array([0, 10, 20, 30, 40, 50, 60, 70, 80, 90, 100])\n",
    "price = np.array([0, 1, 2, 3, 4, 5, 6, 7, 8, 9, 10])\n",
    "\n",
    "# Performing Linear Regression\n",
    "model = LinearRegression()\n",
    "model.fit(quantity.reshape(-1, 1), price)\n",
    "\n",
    "def predict(c):\n",
    "    return model.predict([[c]])[0]"
   ]
  },
  {
   "cell_type": "code",
   "execution_count": 4,
   "id": "5e7317bd",
   "metadata": {},
   "outputs": [
    {
     "name": "stdout",
     "output_type": "stream",
     "text": [
      "Enter quantity in kgs:\n",
      ">>>90\n",
      "9.0\n",
      ">>>25\n",
      "2.5\n",
      ">>>exit\n",
      "finished\n"
     ]
    }
   ],
   "source": [
    "print(\"Enter quantity in kgs:\")\n",
    "while True:\n",
    "  inp = input(\">>>\")\n",
    "  if inp == \"exit\":\n",
    "    print(\"finished\")\n",
    "    break\n",
    "  print(predict(float(inp)))"
   ]
  },
  {
   "cell_type": "markdown",
   "id": "d5353612",
   "metadata": {},
   "source": [
    "# Program 3\n",
    "\n",
    "## Task\n",
    "A program without using scikit-learn or machine learning for Linear regression"
   ]
  },
  {
   "cell_type": "markdown",
   "id": "d93e3a9c",
   "metadata": {},
   "source": [
    "## ML model Task\n",
    "Quantity to price conversion"
   ]
  },
  {
   "cell_type": "code",
   "execution_count": 6,
   "id": "76becd91",
   "metadata": {},
   "outputs": [],
   "source": [
    "# Imports\n",
    "import numpy as np\n",
    "import matplotlib.pyplot as plt\n",
    "\n",
    "# Dataset Creation\n",
    "quantity = np.array([0, 10, 20, 30, 40, 50, 60, 70, 80, 90, 100])\n",
    "price = np.array([0, 1, 2, 3, 4, 5, 6, 7, 8, 9, 10])\n",
    "\n",
    "# Perform Linear Regression Manually\n",
    "# 1. Calculate the means of Celsius and Fahrenheit\n",
    "q_m, p_m = np.mean(quantity), np.mean(price)\n",
    "# 2. Calculate the numerator and denominator for slope\n",
    "n = np.sum((quantity - q_m) * (price - p_m))\n",
    "d = np.sum((quantity - q_m) ** 2)\n",
    "# 3. Calculate the slope and intercept\n",
    "slope, intercept = n / d, p_m - slope * q_m\n",
    "\n",
    "def predict(c):\n",
    "    return slope * c + intercept"
   ]
  },
  {
   "cell_type": "code",
   "execution_count": 7,
   "id": "3d0b2e20",
   "metadata": {},
   "outputs": [
    {
     "name": "stdout",
     "output_type": "stream",
     "text": [
      "Enter quantity in kgs:\n",
      ">>>30\n",
      "3.0\n",
      ">>>exit\n",
      "finished\n"
     ]
    }
   ],
   "source": [
    "print(\"Enter quantity in kgs:\")\n",
    "while True:\n",
    "  inp = input(\">>>\")\n",
    "  if inp == \"exit\":\n",
    "    print(\"finished\")\n",
    "    break\n",
    "  print(predict(float(inp)))"
   ]
  },
  {
   "cell_type": "markdown",
   "id": "00ea506d",
   "metadata": {},
   "source": [
    "# QnA\n",
    " Answer the following question : What do the Coefficients of Regression signify? Research and Answer in not more than 100 words.\n",
    " "
   ]
  },
  {
   "cell_type": "markdown",
   "id": "5d198567",
   "metadata": {},
   "source": [
    "**Answer:**\n",
    "- Coefficients indicate the **relationship between independent and dependent variables** in regression.\n",
    "\n",
    "- Each coefficient **shows the expected change in the dependent variable for a one-unit change in the independent variable**, holding others constant.\n",
    "\n",
    "- **Positive Coefficient** means an **increase in the independent variable leads to an increase in the dependent variable** while **Negative Coefficient** indicates an **inverse relationship**\n",
    "\n",
    "- **Larger Values** will have **more impact**"
   ]
  },
  {
   "cell_type": "code",
   "execution_count": null,
   "id": "ba7ec6a1",
   "metadata": {},
   "outputs": [],
   "source": []
  }
 ],
 "metadata": {
  "kernelspec": {
   "display_name": "Python 3 (ipykernel)",
   "language": "python",
   "name": "python3"
  },
  "language_info": {
   "codemirror_mode": {
    "name": "ipython",
    "version": 3
   },
   "file_extension": ".py",
   "mimetype": "text/x-python",
   "name": "python",
   "nbconvert_exporter": "python",
   "pygments_lexer": "ipython3",
   "version": "3.11.4"
  }
 },
 "nbformat": 4,
 "nbformat_minor": 5
}
